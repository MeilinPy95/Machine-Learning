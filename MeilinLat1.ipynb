{
  "nbformat": 4,
  "nbformat_minor": 0,
  "metadata": {
    "colab": {
      "name": "MeilinLat1.ipynb",
      "provenance": [],
      "authorship_tag": "ABX9TyM/34jQ6vG0RwNrRm9XLkEx",
      "include_colab_link": true
    },
    "kernelspec": {
      "name": "python3",
      "display_name": "Python 3"
    }
  },
  "cells": [
    {
      "cell_type": "markdown",
      "metadata": {
        "id": "view-in-github",
        "colab_type": "text"
      },
      "source": [
        "<a href=\"https://colab.research.google.com/github/MeilinPy95/Machine-Learning/blob/main/MeilinLat1.ipynb\" target=\"_parent\"><img src=\"https://colab.research.google.com/assets/colab-badge.svg\" alt=\"Open In Colab\"/></a>"
      ]
    },
    {
      "cell_type": "code",
      "metadata": {
        "id": "D-MWC2CzZtT4",
        "outputId": "5755f8fe-098b-4835-9f0f-1e88844c36d0",
        "colab": {
          "base_uri": "https://localhost:8080/",
          "height": 221
        }
      },
      "source": [
        "#Memilih target prediksi (prediction target)\n",
        "y=data['gender']\n",
        "y"
      ],
      "execution_count": 33,
      "outputs": [
        {
          "output_type": "execute_result",
          "data": {
            "text/plain": [
              "0       m\n",
              "1       m\n",
              "2       m\n",
              "3       m\n",
              "4       m\n",
              "       ..\n",
              "1955    f\n",
              "1956    f\n",
              "1957    m\n",
              "1958    m\n",
              "1959    f\n",
              "Name: gender, Length: 1960, dtype: object"
            ]
          },
          "metadata": {
            "tags": []
          },
          "execution_count": 33
        }
      ]
    }
  ]
}