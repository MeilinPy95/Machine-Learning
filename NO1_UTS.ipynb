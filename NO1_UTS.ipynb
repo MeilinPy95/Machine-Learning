{
  "nbformat": 4,
  "nbformat_minor": 0,
  "metadata": {
    "colab": {
      "name": "NO1-UTS.ipynb",
      "provenance": [],
      "mount_file_id": "1vu0vxq4M2xWodo5oR2QSs1J5JZ0DHr0Q",
      "authorship_tag": "ABX9TyPTy+DnptdrBU6/ojtTfE9o",
      "include_colab_link": true
    },
    "kernelspec": {
      "name": "python3",
      "display_name": "Python 3"
    }
  },
  "cells": [
    {
      "cell_type": "markdown",
      "metadata": {
        "id": "view-in-github",
        "colab_type": "text"
      },
      "source": [
        "<a href=\"https://colab.research.google.com/github/MeilinPy95/Machine-Learning/blob/main/NO1_UTS.ipynb\" target=\"_parent\"><img src=\"https://colab.research.google.com/assets/colab-badge.svg\" alt=\"Open In Colab\"/></a>"
      ]
    },
    {
      "cell_type": "code",
      "metadata": {
        "colab": {
          "base_uri": "https://localhost:8080/",
          "height": 419
        },
        "id": "jxQMevvH_gdA",
        "outputId": "8feb951b-4cb9-40cc-d3b2-75e7deb42efb"
      },
      "source": [
        "import pandas as pd\n",
        "path=\"/content/drive/My Drive/machine learning/2020 Indonesian University Ranking.csv\"\n",
        "dataset=pd.read_csv(path)\n",
        "dataset"
      ],
      "execution_count": 2,
      "outputs": [
        {
          "output_type": "execute_result",
          "data": {
            "text/html": [
              "<div>\n",
              "<style scoped>\n",
              "    .dataframe tbody tr th:only-of-type {\n",
              "        vertical-align: middle;\n",
              "    }\n",
              "\n",
              "    .dataframe tbody tr th {\n",
              "        vertical-align: top;\n",
              "    }\n",
              "\n",
              "    .dataframe thead th {\n",
              "        text-align: right;\n",
              "    }\n",
              "</style>\n",
              "<table border=\"1\" class=\"dataframe\">\n",
              "  <thead>\n",
              "    <tr style=\"text-align: right;\">\n",
              "      <th></th>\n",
              "      <th>Rank</th>\n",
              "      <th>University</th>\n",
              "      <th>Town</th>\n",
              "    </tr>\n",
              "  </thead>\n",
              "  <tbody>\n",
              "    <tr>\n",
              "      <th>0</th>\n",
              "      <td>1</td>\n",
              "      <td>Universitas Gadjah Mada</td>\n",
              "      <td>Sleman</td>\n",
              "    </tr>\n",
              "    <tr>\n",
              "      <th>1</th>\n",
              "      <td>2</td>\n",
              "      <td>Universitas Indonesia</td>\n",
              "      <td>Depok</td>\n",
              "    </tr>\n",
              "    <tr>\n",
              "      <th>2</th>\n",
              "      <td>3</td>\n",
              "      <td>Universitas Diponegoro</td>\n",
              "      <td>Semarang</td>\n",
              "    </tr>\n",
              "    <tr>\n",
              "      <th>3</th>\n",
              "      <td>4</td>\n",
              "      <td>Universitas Pendidikan Indonesia</td>\n",
              "      <td>Bandung</td>\n",
              "    </tr>\n",
              "    <tr>\n",
              "      <th>4</th>\n",
              "      <td>5</td>\n",
              "      <td>Universitas Negeri Yogyakarta</td>\n",
              "      <td>Sleman</td>\n",
              "    </tr>\n",
              "    <tr>\n",
              "      <th>...</th>\n",
              "      <td>...</td>\n",
              "      <td>...</td>\n",
              "      <td>...</td>\n",
              "    </tr>\n",
              "    <tr>\n",
              "      <th>572</th>\n",
              "      <td>573</td>\n",
              "      <td>Universitas Timika</td>\n",
              "      <td>Timika</td>\n",
              "    </tr>\n",
              "    <tr>\n",
              "      <th>573</th>\n",
              "      <td>574</td>\n",
              "      <td>Universitas Nuku</td>\n",
              "      <td>Tidore Kepulauan</td>\n",
              "    </tr>\n",
              "    <tr>\n",
              "      <th>574</th>\n",
              "      <td>575</td>\n",
              "      <td>Universitas Pepabri Makassar</td>\n",
              "      <td>Makassar</td>\n",
              "    </tr>\n",
              "    <tr>\n",
              "      <th>575</th>\n",
              "      <td>576</td>\n",
              "      <td>Universitas Sulawesi Tenggara</td>\n",
              "      <td>Kendari</td>\n",
              "    </tr>\n",
              "    <tr>\n",
              "      <th>576</th>\n",
              "      <td>577</td>\n",
              "      <td>Universitas Kristen Tentena</td>\n",
              "      <td>Poso</td>\n",
              "    </tr>\n",
              "  </tbody>\n",
              "</table>\n",
              "<p>577 rows × 3 columns</p>\n",
              "</div>"
            ],
            "text/plain": [
              "     Rank                        University              Town\n",
              "0       1           Universitas Gadjah Mada            Sleman\n",
              "1       2             Universitas Indonesia             Depok\n",
              "2       3            Universitas Diponegoro          Semarang\n",
              "3       4  Universitas Pendidikan Indonesia           Bandung\n",
              "4       5     Universitas Negeri Yogyakarta            Sleman\n",
              "..    ...                               ...               ...\n",
              "572   573                Universitas Timika            Timika\n",
              "573   574                  Universitas Nuku  Tidore Kepulauan\n",
              "574   575      Universitas Pepabri Makassar          Makassar\n",
              "575   576     Universitas Sulawesi Tenggara           Kendari\n",
              "576   577       Universitas Kristen Tentena              Poso\n",
              "\n",
              "[577 rows x 3 columns]"
            ]
          },
          "metadata": {
            "tags": []
          },
          "execution_count": 2
        }
      ]
    },
    {
      "cell_type": "code",
      "metadata": {
        "id": "Wzg5fJJKAT0h"
      },
      "source": [
        "x=dataset[['Rank','University']]\n",
        "y=dataset['Town']"
      ],
      "execution_count": 3,
      "outputs": []
    },
    {
      "cell_type": "code",
      "metadata": {
        "colab": {
          "base_uri": "https://localhost:8080/",
          "height": 419
        },
        "id": "Jqw941afC4jG",
        "outputId": "023628b2-aded-4e41-bb16-2fcc1dccb23c"
      },
      "source": [
        "x"
      ],
      "execution_count": 4,
      "outputs": [
        {
          "output_type": "execute_result",
          "data": {
            "text/html": [
              "<div>\n",
              "<style scoped>\n",
              "    .dataframe tbody tr th:only-of-type {\n",
              "        vertical-align: middle;\n",
              "    }\n",
              "\n",
              "    .dataframe tbody tr th {\n",
              "        vertical-align: top;\n",
              "    }\n",
              "\n",
              "    .dataframe thead th {\n",
              "        text-align: right;\n",
              "    }\n",
              "</style>\n",
              "<table border=\"1\" class=\"dataframe\">\n",
              "  <thead>\n",
              "    <tr style=\"text-align: right;\">\n",
              "      <th></th>\n",
              "      <th>Rank</th>\n",
              "      <th>University</th>\n",
              "    </tr>\n",
              "  </thead>\n",
              "  <tbody>\n",
              "    <tr>\n",
              "      <th>0</th>\n",
              "      <td>1</td>\n",
              "      <td>Universitas Gadjah Mada</td>\n",
              "    </tr>\n",
              "    <tr>\n",
              "      <th>1</th>\n",
              "      <td>2</td>\n",
              "      <td>Universitas Indonesia</td>\n",
              "    </tr>\n",
              "    <tr>\n",
              "      <th>2</th>\n",
              "      <td>3</td>\n",
              "      <td>Universitas Diponegoro</td>\n",
              "    </tr>\n",
              "    <tr>\n",
              "      <th>3</th>\n",
              "      <td>4</td>\n",
              "      <td>Universitas Pendidikan Indonesia</td>\n",
              "    </tr>\n",
              "    <tr>\n",
              "      <th>4</th>\n",
              "      <td>5</td>\n",
              "      <td>Universitas Negeri Yogyakarta</td>\n",
              "    </tr>\n",
              "    <tr>\n",
              "      <th>...</th>\n",
              "      <td>...</td>\n",
              "      <td>...</td>\n",
              "    </tr>\n",
              "    <tr>\n",
              "      <th>572</th>\n",
              "      <td>573</td>\n",
              "      <td>Universitas Timika</td>\n",
              "    </tr>\n",
              "    <tr>\n",
              "      <th>573</th>\n",
              "      <td>574</td>\n",
              "      <td>Universitas Nuku</td>\n",
              "    </tr>\n",
              "    <tr>\n",
              "      <th>574</th>\n",
              "      <td>575</td>\n",
              "      <td>Universitas Pepabri Makassar</td>\n",
              "    </tr>\n",
              "    <tr>\n",
              "      <th>575</th>\n",
              "      <td>576</td>\n",
              "      <td>Universitas Sulawesi Tenggara</td>\n",
              "    </tr>\n",
              "    <tr>\n",
              "      <th>576</th>\n",
              "      <td>577</td>\n",
              "      <td>Universitas Kristen Tentena</td>\n",
              "    </tr>\n",
              "  </tbody>\n",
              "</table>\n",
              "<p>577 rows × 2 columns</p>\n",
              "</div>"
            ],
            "text/plain": [
              "     Rank                        University\n",
              "0       1           Universitas Gadjah Mada\n",
              "1       2             Universitas Indonesia\n",
              "2       3            Universitas Diponegoro\n",
              "3       4  Universitas Pendidikan Indonesia\n",
              "4       5     Universitas Negeri Yogyakarta\n",
              "..    ...                               ...\n",
              "572   573                Universitas Timika\n",
              "573   574                  Universitas Nuku\n",
              "574   575      Universitas Pepabri Makassar\n",
              "575   576     Universitas Sulawesi Tenggara\n",
              "576   577       Universitas Kristen Tentena\n",
              "\n",
              "[577 rows x 2 columns]"
            ]
          },
          "metadata": {
            "tags": []
          },
          "execution_count": 4
        }
      ]
    },
    {
      "cell_type": "code",
      "metadata": {
        "colab": {
          "base_uri": "https://localhost:8080/"
        },
        "id": "_odC6d33C9O9",
        "outputId": "13c69a3b-fcd6-4e52-9960-7a9073fbe49d"
      },
      "source": [
        "y"
      ],
      "execution_count": 5,
      "outputs": [
        {
          "output_type": "execute_result",
          "data": {
            "text/plain": [
              "0                Sleman\n",
              "1                 Depok\n",
              "2              Semarang\n",
              "3               Bandung\n",
              "4                Sleman\n",
              "             ...       \n",
              "572              Timika\n",
              "573    Tidore Kepulauan\n",
              "574            Makassar\n",
              "575             Kendari\n",
              "576                Poso\n",
              "Name: Town, Length: 577, dtype: object"
            ]
          },
          "metadata": {
            "tags": []
          },
          "execution_count": 5
        }
      ]
    },
    {
      "cell_type": "code",
      "metadata": {
        "id": "2vZ-6520DF87"
      },
      "source": [
        "from sklearn.model_selection import train_test_split"
      ],
      "execution_count": 6,
      "outputs": []
    },
    {
      "cell_type": "code",
      "metadata": {
        "id": "qrtS9o1IDOg4"
      },
      "source": [
        "x_train,x_test,y_train,y_test=train_test_split(x,y,test_size=0.7)"
      ],
      "execution_count": 7,
      "outputs": []
    },
    {
      "cell_type": "code",
      "metadata": {
        "colab": {
          "base_uri": "https://localhost:8080/",
          "height": 419
        },
        "id": "jygI-as4EF98",
        "outputId": "dcc1306a-184a-4c72-c1d2-a800108f86ff"
      },
      "source": [
        "x_train"
      ],
      "execution_count": 14,
      "outputs": [
        {
          "output_type": "execute_result",
          "data": {
            "text/html": [
              "<div>\n",
              "<style scoped>\n",
              "    .dataframe tbody tr th:only-of-type {\n",
              "        vertical-align: middle;\n",
              "    }\n",
              "\n",
              "    .dataframe tbody tr th {\n",
              "        vertical-align: top;\n",
              "    }\n",
              "\n",
              "    .dataframe thead th {\n",
              "        text-align: right;\n",
              "    }\n",
              "</style>\n",
              "<table border=\"1\" class=\"dataframe\">\n",
              "  <thead>\n",
              "    <tr style=\"text-align: right;\">\n",
              "      <th></th>\n",
              "      <th>Rank</th>\n",
              "      <th>University</th>\n",
              "    </tr>\n",
              "  </thead>\n",
              "  <tbody>\n",
              "    <tr>\n",
              "      <th>238</th>\n",
              "      <td>239</td>\n",
              "      <td>Universitas Pancasakti</td>\n",
              "    </tr>\n",
              "    <tr>\n",
              "      <th>378</th>\n",
              "      <td>379</td>\n",
              "      <td>Universitas Mohammad Husni Thamrin</td>\n",
              "    </tr>\n",
              "    <tr>\n",
              "      <th>444</th>\n",
              "      <td>445</td>\n",
              "      <td>Universitas Quality</td>\n",
              "    </tr>\n",
              "    <tr>\n",
              "      <th>436</th>\n",
              "      <td>437</td>\n",
              "      <td>Universitas Darwan Ali</td>\n",
              "    </tr>\n",
              "    <tr>\n",
              "      <th>35</th>\n",
              "      <td>36</td>\n",
              "      <td>Universitas Jenderal Soedirman</td>\n",
              "    </tr>\n",
              "    <tr>\n",
              "      <th>...</th>\n",
              "      <td>...</td>\n",
              "      <td>...</td>\n",
              "    </tr>\n",
              "    <tr>\n",
              "      <th>498</th>\n",
              "      <td>499</td>\n",
              "      <td>Universitas Bandung Raya</td>\n",
              "    </tr>\n",
              "    <tr>\n",
              "      <th>345</th>\n",
              "      <td>346</td>\n",
              "      <td>Universitas Abdurachman Saleh</td>\n",
              "    </tr>\n",
              "    <tr>\n",
              "      <th>55</th>\n",
              "      <td>56</td>\n",
              "      <td>Universitas Muhammadiyah Purwokerto</td>\n",
              "    </tr>\n",
              "    <tr>\n",
              "      <th>133</th>\n",
              "      <td>134</td>\n",
              "      <td>Universitas Al Azhar Indonesia</td>\n",
              "    </tr>\n",
              "    <tr>\n",
              "      <th>57</th>\n",
              "      <td>58</td>\n",
              "      <td>Universitas Pendidikan Ganesha</td>\n",
              "    </tr>\n",
              "  </tbody>\n",
              "</table>\n",
              "<p>173 rows × 2 columns</p>\n",
              "</div>"
            ],
            "text/plain": [
              "     Rank                           University\n",
              "238   239               Universitas Pancasakti\n",
              "378   379   Universitas Mohammad Husni Thamrin\n",
              "444   445                  Universitas Quality\n",
              "436   437               Universitas Darwan Ali\n",
              "35     36       Universitas Jenderal Soedirman\n",
              "..    ...                                  ...\n",
              "498   499             Universitas Bandung Raya\n",
              "345   346        Universitas Abdurachman Saleh\n",
              "55     56  Universitas Muhammadiyah Purwokerto\n",
              "133   134       Universitas Al Azhar Indonesia\n",
              "57     58       Universitas Pendidikan Ganesha\n",
              "\n",
              "[173 rows x 2 columns]"
            ]
          },
          "metadata": {
            "tags": []
          },
          "execution_count": 14
        }
      ]
    },
    {
      "cell_type": "code",
      "metadata": {
        "colab": {
          "base_uri": "https://localhost:8080/",
          "height": 419
        },
        "id": "3m5Apop6E9Vu",
        "outputId": "8dd351e4-8445-470f-9c5c-6ca48b3255af"
      },
      "source": [
        "x_test"
      ],
      "execution_count": 15,
      "outputs": [
        {
          "output_type": "execute_result",
          "data": {
            "text/html": [
              "<div>\n",
              "<style scoped>\n",
              "    .dataframe tbody tr th:only-of-type {\n",
              "        vertical-align: middle;\n",
              "    }\n",
              "\n",
              "    .dataframe tbody tr th {\n",
              "        vertical-align: top;\n",
              "    }\n",
              "\n",
              "    .dataframe thead th {\n",
              "        text-align: right;\n",
              "    }\n",
              "</style>\n",
              "<table border=\"1\" class=\"dataframe\">\n",
              "  <thead>\n",
              "    <tr style=\"text-align: right;\">\n",
              "      <th></th>\n",
              "      <th>Rank</th>\n",
              "      <th>University</th>\n",
              "    </tr>\n",
              "  </thead>\n",
              "  <tbody>\n",
              "    <tr>\n",
              "      <th>153</th>\n",
              "      <td>154</td>\n",
              "      <td>Universitas Kuningan</td>\n",
              "    </tr>\n",
              "    <tr>\n",
              "      <th>89</th>\n",
              "      <td>90</td>\n",
              "      <td>Universitas Semarang</td>\n",
              "    </tr>\n",
              "    <tr>\n",
              "      <th>110</th>\n",
              "      <td>111</td>\n",
              "      <td>Universitas AMIKOM Yogyakarta</td>\n",
              "    </tr>\n",
              "    <tr>\n",
              "      <th>19</th>\n",
              "      <td>20</td>\n",
              "      <td>Universitas Andalas</td>\n",
              "    </tr>\n",
              "    <tr>\n",
              "      <th>542</th>\n",
              "      <td>543</td>\n",
              "      <td>Universitas San Pedro</td>\n",
              "    </tr>\n",
              "    <tr>\n",
              "      <th>...</th>\n",
              "      <td>...</td>\n",
              "      <td>...</td>\n",
              "    </tr>\n",
              "    <tr>\n",
              "      <th>553</th>\n",
              "      <td>554</td>\n",
              "      <td>Universitas Nani Bili Nusantara</td>\n",
              "    </tr>\n",
              "    <tr>\n",
              "      <th>70</th>\n",
              "      <td>71</td>\n",
              "      <td>Universitas Lambung Mangkurat</td>\n",
              "    </tr>\n",
              "    <tr>\n",
              "      <th>0</th>\n",
              "      <td>1</td>\n",
              "      <td>Universitas Gadjah Mada</td>\n",
              "    </tr>\n",
              "    <tr>\n",
              "      <th>290</th>\n",
              "      <td>291</td>\n",
              "      <td>Universitas Al Muslim</td>\n",
              "    </tr>\n",
              "    <tr>\n",
              "      <th>376</th>\n",
              "      <td>377</td>\n",
              "      <td>Universitas Graha Nusantara Padangsidimpuan</td>\n",
              "    </tr>\n",
              "  </tbody>\n",
              "</table>\n",
              "<p>404 rows × 2 columns</p>\n",
              "</div>"
            ],
            "text/plain": [
              "     Rank                                   University\n",
              "153   154                         Universitas Kuningan\n",
              "89     90                         Universitas Semarang\n",
              "110   111                Universitas AMIKOM Yogyakarta\n",
              "19     20                          Universitas Andalas\n",
              "542   543                        Universitas San Pedro\n",
              "..    ...                                          ...\n",
              "553   554              Universitas Nani Bili Nusantara\n",
              "70     71                Universitas Lambung Mangkurat\n",
              "0       1                      Universitas Gadjah Mada\n",
              "290   291                        Universitas Al Muslim\n",
              "376   377  Universitas Graha Nusantara Padangsidimpuan\n",
              "\n",
              "[404 rows x 2 columns]"
            ]
          },
          "metadata": {
            "tags": []
          },
          "execution_count": 15
        }
      ]
    },
    {
      "cell_type": "code",
      "metadata": {
        "colab": {
          "base_uri": "https://localhost:8080/"
        },
        "id": "oQmVGpfeFCWw",
        "outputId": "05e6bb7d-8f00-4d17-8dc1-f75b79acc2c6"
      },
      "source": [
        "y_train"
      ],
      "execution_count": 16,
      "outputs": [
        {
          "output_type": "execute_result",
          "data": {
            "text/plain": [
              "238        Tegal\n",
              "378      Jakarta\n",
              "444        Medan\n",
              "436       Sampit\n",
              "35      Banyumas\n",
              "         ...    \n",
              "498      Bandung\n",
              "345    Situbondo\n",
              "55      Banyumas\n",
              "133      Jakarta\n",
              "57     Singaraja\n",
              "Name: Town, Length: 173, dtype: object"
            ]
          },
          "metadata": {
            "tags": []
          },
          "execution_count": 16
        }
      ]
    },
    {
      "cell_type": "code",
      "metadata": {
        "colab": {
          "base_uri": "https://localhost:8080/"
        },
        "id": "9G80m54eFFL9",
        "outputId": "c69c2d13-5ea8-4450-8506-df93ce9427fc"
      },
      "source": [
        "y_test"
      ],
      "execution_count": 17,
      "outputs": [
        {
          "output_type": "execute_result",
          "data": {
            "text/plain": [
              "153           Kuningan\n",
              "89            Semarang\n",
              "110             Sleman\n",
              "19              Padang\n",
              "542             Kupang\n",
              "            ...       \n",
              "553              Aimas\n",
              "70         Banjarmasin\n",
              "0               Sleman\n",
              "290            Bireuen\n",
              "376    Padangsidimpuan\n",
              "Name: Town, Length: 404, dtype: object"
            ]
          },
          "metadata": {
            "tags": []
          },
          "execution_count": 17
        }
      ]
    }
  ]
}